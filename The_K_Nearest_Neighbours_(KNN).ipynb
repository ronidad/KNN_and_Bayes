{
  "cells": [
    {
      "cell_type": "markdown",
      "metadata": {
        "id": "875y1bELFxoO"
      },
      "source": [
        "<font color=\"green\">*To start working on this notebook, or any other notebook that we will use in the Moringa Data Science Course, we will need to save our own copy of it. We can do this by clicking File > Save a Copy in Drive. We will then be able to make edits to our own copy of this notebook.*</font>"
      ]
    },
    {
      "cell_type": "markdown",
      "metadata": {
        "id": "r_DcYFR42f0S"
      },
      "source": [
        "# Python Programming: The K-Nearest Neighbours (KNN)"
      ]
    },
    {
      "cell_type": "markdown",
      "metadata": {
        "id": "G_2LcNX_2mRp"
      },
      "source": [
        "## Examples"
      ]
    },
    {
      "cell_type": "markdown",
      "metadata": {
        "id": "59Dl6rn42e6J"
      },
      "source": [
        "### Example 1: Classification"
      ]
    },
    {
      "cell_type": "code",
      "execution_count": null,
      "metadata": {
        "id": "LdqYgpqp2aX9"
      },
      "outputs": [],
      "source": [
        "# Example \n",
        "# ---\n",
        "# Question: Predict the class to which these plants belong. \n",
        "# There are three classes in the dataset: Iris-setosa, Iris-versicolor and Iris-virginica. \n",
        "# ---\n",
        "# Dataset url = http://bit.ly/DatasetIris\n",
        "# ---\n",
        "# \n"
      ]
    },
    {
      "cell_type": "code",
      "execution_count": 1,
      "metadata": {
        "id": "HM3M559k3zFq"
      },
      "outputs": [],
      "source": [
        "# Importing our libraries\n",
        "# ---\n",
        "# \n",
        "import numpy as np\n",
        "import matplotlib.pyplot as plt\n",
        "import pandas as pd\n",
        "import seaborn as sns"
      ]
    },
    {
      "cell_type": "code",
      "execution_count": 4,
      "metadata": {
        "id": "DeL8e6yt3dH3"
      },
      "outputs": [
        {
          "data": {
            "text/html": [
              "<div>\n",
              "<style scoped>\n",
              "    .dataframe tbody tr th:only-of-type {\n",
              "        vertical-align: middle;\n",
              "    }\n",
              "\n",
              "    .dataframe tbody tr th {\n",
              "        vertical-align: top;\n",
              "    }\n",
              "\n",
              "    .dataframe thead th {\n",
              "        text-align: right;\n",
              "    }\n",
              "</style>\n",
              "<table border=\"1\" class=\"dataframe\">\n",
              "  <thead>\n",
              "    <tr style=\"text-align: right;\">\n",
              "      <th></th>\n",
              "      <th>sepal-length</th>\n",
              "      <th>sepal-width</th>\n",
              "      <th>petal-length</th>\n",
              "      <th>petal-width</th>\n",
              "      <th>Class</th>\n",
              "    </tr>\n",
              "  </thead>\n",
              "  <tbody>\n",
              "    <tr>\n",
              "      <th>0</th>\n",
              "      <td>5.1</td>\n",
              "      <td>3.5</td>\n",
              "      <td>1.4</td>\n",
              "      <td>0.2</td>\n",
              "      <td>Iris-setosa</td>\n",
              "    </tr>\n",
              "    <tr>\n",
              "      <th>1</th>\n",
              "      <td>4.9</td>\n",
              "      <td>3.0</td>\n",
              "      <td>1.4</td>\n",
              "      <td>0.2</td>\n",
              "      <td>Iris-setosa</td>\n",
              "    </tr>\n",
              "    <tr>\n",
              "      <th>2</th>\n",
              "      <td>4.7</td>\n",
              "      <td>3.2</td>\n",
              "      <td>1.3</td>\n",
              "      <td>0.2</td>\n",
              "      <td>Iris-setosa</td>\n",
              "    </tr>\n",
              "    <tr>\n",
              "      <th>3</th>\n",
              "      <td>4.6</td>\n",
              "      <td>3.1</td>\n",
              "      <td>1.5</td>\n",
              "      <td>0.2</td>\n",
              "      <td>Iris-setosa</td>\n",
              "    </tr>\n",
              "    <tr>\n",
              "      <th>4</th>\n",
              "      <td>5.0</td>\n",
              "      <td>3.6</td>\n",
              "      <td>1.4</td>\n",
              "      <td>0.2</td>\n",
              "      <td>Iris-setosa</td>\n",
              "    </tr>\n",
              "  </tbody>\n",
              "</table>\n",
              "</div>"
            ],
            "text/plain": [
              "   sepal-length  sepal-width  petal-length  petal-width        Class\n",
              "0           5.1          3.5           1.4          0.2  Iris-setosa\n",
              "1           4.9          3.0           1.4          0.2  Iris-setosa\n",
              "2           4.7          3.2           1.3          0.2  Iris-setosa\n",
              "3           4.6          3.1           1.5          0.2  Iris-setosa\n",
              "4           5.0          3.6           1.4          0.2  Iris-setosa"
            ]
          },
          "execution_count": 4,
          "metadata": {},
          "output_type": "execute_result"
        }
      ],
      "source": [
        "# Loading our dataset\n",
        "# ---\n",
        "# \n",
        "\n",
        "# Assign colum names to the dataset\n",
        "names = ['sepal-length', 'sepal-width', 'petal-length', 'petal-width', 'Class']\n",
        "\n",
        "# Read dataset to pandas dataframe\n",
        "df = pd.read_csv(\"http://bit.ly/DatasetIris\", names = names)\n",
        "df.head()"
      ]
    },
    {
      "cell_type": "code",
      "execution_count": 5,
      "metadata": {
        "id": "SS61mwWP4ZoA"
      },
      "outputs": [
        {
          "data": {
            "text/html": [
              "<div>\n",
              "<style scoped>\n",
              "    .dataframe tbody tr th:only-of-type {\n",
              "        vertical-align: middle;\n",
              "    }\n",
              "\n",
              "    .dataframe tbody tr th {\n",
              "        vertical-align: top;\n",
              "    }\n",
              "\n",
              "    .dataframe thead th {\n",
              "        text-align: right;\n",
              "    }\n",
              "</style>\n",
              "<table border=\"1\" class=\"dataframe\">\n",
              "  <thead>\n",
              "    <tr style=\"text-align: right;\">\n",
              "      <th></th>\n",
              "      <th>sepal-length</th>\n",
              "      <th>sepal-width</th>\n",
              "      <th>petal-length</th>\n",
              "      <th>petal-width</th>\n",
              "      <th>Class</th>\n",
              "    </tr>\n",
              "  </thead>\n",
              "  <tbody>\n",
              "    <tr>\n",
              "      <th>0</th>\n",
              "      <td>5.1</td>\n",
              "      <td>3.5</td>\n",
              "      <td>1.4</td>\n",
              "      <td>0.2</td>\n",
              "      <td>Iris-setosa</td>\n",
              "    </tr>\n",
              "    <tr>\n",
              "      <th>1</th>\n",
              "      <td>4.9</td>\n",
              "      <td>3.0</td>\n",
              "      <td>1.4</td>\n",
              "      <td>0.2</td>\n",
              "      <td>Iris-setosa</td>\n",
              "    </tr>\n",
              "    <tr>\n",
              "      <th>2</th>\n",
              "      <td>4.7</td>\n",
              "      <td>3.2</td>\n",
              "      <td>1.3</td>\n",
              "      <td>0.2</td>\n",
              "      <td>Iris-setosa</td>\n",
              "    </tr>\n",
              "    <tr>\n",
              "      <th>3</th>\n",
              "      <td>4.6</td>\n",
              "      <td>3.1</td>\n",
              "      <td>1.5</td>\n",
              "      <td>0.2</td>\n",
              "      <td>Iris-setosa</td>\n",
              "    </tr>\n",
              "    <tr>\n",
              "      <th>4</th>\n",
              "      <td>5.0</td>\n",
              "      <td>3.6</td>\n",
              "      <td>1.4</td>\n",
              "      <td>0.2</td>\n",
              "      <td>Iris-setosa</td>\n",
              "    </tr>\n",
              "  </tbody>\n",
              "</table>\n",
              "</div>"
            ],
            "text/plain": [
              "   sepal-length  sepal-width  petal-length  petal-width        Class\n",
              "0           5.1          3.5           1.4          0.2  Iris-setosa\n",
              "1           4.9          3.0           1.4          0.2  Iris-setosa\n",
              "2           4.7          3.2           1.3          0.2  Iris-setosa\n",
              "3           4.6          3.1           1.5          0.2  Iris-setosa\n",
              "4           5.0          3.6           1.4          0.2  Iris-setosa"
            ]
          },
          "execution_count": 5,
          "metadata": {},
          "output_type": "execute_result"
        }
      ],
      "source": [
        "# Previewing our datset\n",
        "# ---\n",
        "# \n",
        "df.head()"
      ]
    },
    {
      "cell_type": "code",
      "execution_count": 10,
      "metadata": {
        "id": "wEQV5uym434k"
      },
      "outputs": [
        {
          "data": {
            "text/plain": [
              "array([[5.1, 3.5, 1.4, 0.2],\n",
              "       [4.9, 3. , 1.4, 0.2],\n",
              "       [4.7, 3.2, 1.3, 0.2],\n",
              "       [4.6, 3.1, 1.5, 0.2],\n",
              "       [5. , 3.6, 1.4, 0.2],\n",
              "       [5.4, 3.9, 1.7, 0.4],\n",
              "       [4.6, 3.4, 1.4, 0.3],\n",
              "       [5. , 3.4, 1.5, 0.2],\n",
              "       [4.4, 2.9, 1.4, 0.2],\n",
              "       [4.9, 3.1, 1.5, 0.1],\n",
              "       [5.4, 3.7, 1.5, 0.2],\n",
              "       [4.8, 3.4, 1.6, 0.2],\n",
              "       [4.8, 3. , 1.4, 0.1],\n",
              "       [4.3, 3. , 1.1, 0.1],\n",
              "       [5.8, 4. , 1.2, 0.2],\n",
              "       [5.7, 4.4, 1.5, 0.4],\n",
              "       [5.4, 3.9, 1.3, 0.4],\n",
              "       [5.1, 3.5, 1.4, 0.3],\n",
              "       [5.7, 3.8, 1.7, 0.3],\n",
              "       [5.1, 3.8, 1.5, 0.3],\n",
              "       [5.4, 3.4, 1.7, 0.2],\n",
              "       [5.1, 3.7, 1.5, 0.4],\n",
              "       [4.6, 3.6, 1. , 0.2],\n",
              "       [5.1, 3.3, 1.7, 0.5],\n",
              "       [4.8, 3.4, 1.9, 0.2],\n",
              "       [5. , 3. , 1.6, 0.2],\n",
              "       [5. , 3.4, 1.6, 0.4],\n",
              "       [5.2, 3.5, 1.5, 0.2],\n",
              "       [5.2, 3.4, 1.4, 0.2],\n",
              "       [4.7, 3.2, 1.6, 0.2],\n",
              "       [4.8, 3.1, 1.6, 0.2],\n",
              "       [5.4, 3.4, 1.5, 0.4],\n",
              "       [5.2, 4.1, 1.5, 0.1],\n",
              "       [5.5, 4.2, 1.4, 0.2],\n",
              "       [4.9, 3.1, 1.5, 0.1],\n",
              "       [5. , 3.2, 1.2, 0.2],\n",
              "       [5.5, 3.5, 1.3, 0.2],\n",
              "       [4.9, 3.1, 1.5, 0.1],\n",
              "       [4.4, 3. , 1.3, 0.2],\n",
              "       [5.1, 3.4, 1.5, 0.2],\n",
              "       [5. , 3.5, 1.3, 0.3],\n",
              "       [4.5, 2.3, 1.3, 0.3],\n",
              "       [4.4, 3.2, 1.3, 0.2],\n",
              "       [5. , 3.5, 1.6, 0.6],\n",
              "       [5.1, 3.8, 1.9, 0.4],\n",
              "       [4.8, 3. , 1.4, 0.3],\n",
              "       [5.1, 3.8, 1.6, 0.2],\n",
              "       [4.6, 3.2, 1.4, 0.2],\n",
              "       [5.3, 3.7, 1.5, 0.2],\n",
              "       [5. , 3.3, 1.4, 0.2],\n",
              "       [7. , 3.2, 4.7, 1.4],\n",
              "       [6.4, 3.2, 4.5, 1.5],\n",
              "       [6.9, 3.1, 4.9, 1.5],\n",
              "       [5.5, 2.3, 4. , 1.3],\n",
              "       [6.5, 2.8, 4.6, 1.5],\n",
              "       [5.7, 2.8, 4.5, 1.3],\n",
              "       [6.3, 3.3, 4.7, 1.6],\n",
              "       [4.9, 2.4, 3.3, 1. ],\n",
              "       [6.6, 2.9, 4.6, 1.3],\n",
              "       [5.2, 2.7, 3.9, 1.4],\n",
              "       [5. , 2. , 3.5, 1. ],\n",
              "       [5.9, 3. , 4.2, 1.5],\n",
              "       [6. , 2.2, 4. , 1. ],\n",
              "       [6.1, 2.9, 4.7, 1.4],\n",
              "       [5.6, 2.9, 3.6, 1.3],\n",
              "       [6.7, 3.1, 4.4, 1.4],\n",
              "       [5.6, 3. , 4.5, 1.5],\n",
              "       [5.8, 2.7, 4.1, 1. ],\n",
              "       [6.2, 2.2, 4.5, 1.5],\n",
              "       [5.6, 2.5, 3.9, 1.1],\n",
              "       [5.9, 3.2, 4.8, 1.8],\n",
              "       [6.1, 2.8, 4. , 1.3],\n",
              "       [6.3, 2.5, 4.9, 1.5],\n",
              "       [6.1, 2.8, 4.7, 1.2],\n",
              "       [6.4, 2.9, 4.3, 1.3],\n",
              "       [6.6, 3. , 4.4, 1.4],\n",
              "       [6.8, 2.8, 4.8, 1.4],\n",
              "       [6.7, 3. , 5. , 1.7],\n",
              "       [6. , 2.9, 4.5, 1.5],\n",
              "       [5.7, 2.6, 3.5, 1. ],\n",
              "       [5.5, 2.4, 3.8, 1.1],\n",
              "       [5.5, 2.4, 3.7, 1. ],\n",
              "       [5.8, 2.7, 3.9, 1.2],\n",
              "       [6. , 2.7, 5.1, 1.6],\n",
              "       [5.4, 3. , 4.5, 1.5],\n",
              "       [6. , 3.4, 4.5, 1.6],\n",
              "       [6.7, 3.1, 4.7, 1.5],\n",
              "       [6.3, 2.3, 4.4, 1.3],\n",
              "       [5.6, 3. , 4.1, 1.3],\n",
              "       [5.5, 2.5, 4. , 1.3],\n",
              "       [5.5, 2.6, 4.4, 1.2],\n",
              "       [6.1, 3. , 4.6, 1.4],\n",
              "       [5.8, 2.6, 4. , 1.2],\n",
              "       [5. , 2.3, 3.3, 1. ],\n",
              "       [5.6, 2.7, 4.2, 1.3],\n",
              "       [5.7, 3. , 4.2, 1.2],\n",
              "       [5.7, 2.9, 4.2, 1.3],\n",
              "       [6.2, 2.9, 4.3, 1.3],\n",
              "       [5.1, 2.5, 3. , 1.1],\n",
              "       [5.7, 2.8, 4.1, 1.3],\n",
              "       [6.3, 3.3, 6. , 2.5],\n",
              "       [5.8, 2.7, 5.1, 1.9],\n",
              "       [7.1, 3. , 5.9, 2.1],\n",
              "       [6.3, 2.9, 5.6, 1.8],\n",
              "       [6.5, 3. , 5.8, 2.2],\n",
              "       [7.6, 3. , 6.6, 2.1],\n",
              "       [4.9, 2.5, 4.5, 1.7],\n",
              "       [7.3, 2.9, 6.3, 1.8],\n",
              "       [6.7, 2.5, 5.8, 1.8],\n",
              "       [7.2, 3.6, 6.1, 2.5],\n",
              "       [6.5, 3.2, 5.1, 2. ],\n",
              "       [6.4, 2.7, 5.3, 1.9],\n",
              "       [6.8, 3. , 5.5, 2.1],\n",
              "       [5.7, 2.5, 5. , 2. ],\n",
              "       [5.8, 2.8, 5.1, 2.4],\n",
              "       [6.4, 3.2, 5.3, 2.3],\n",
              "       [6.5, 3. , 5.5, 1.8],\n",
              "       [7.7, 3.8, 6.7, 2.2],\n",
              "       [7.7, 2.6, 6.9, 2.3],\n",
              "       [6. , 2.2, 5. , 1.5],\n",
              "       [6.9, 3.2, 5.7, 2.3],\n",
              "       [5.6, 2.8, 4.9, 2. ],\n",
              "       [7.7, 2.8, 6.7, 2. ],\n",
              "       [6.3, 2.7, 4.9, 1.8],\n",
              "       [6.7, 3.3, 5.7, 2.1],\n",
              "       [7.2, 3.2, 6. , 1.8],\n",
              "       [6.2, 2.8, 4.8, 1.8],\n",
              "       [6.1, 3. , 4.9, 1.8],\n",
              "       [6.4, 2.8, 5.6, 2.1],\n",
              "       [7.2, 3. , 5.8, 1.6],\n",
              "       [7.4, 2.8, 6.1, 1.9],\n",
              "       [7.9, 3.8, 6.4, 2. ],\n",
              "       [6.4, 2.8, 5.6, 2.2],\n",
              "       [6.3, 2.8, 5.1, 1.5],\n",
              "       [6.1, 2.6, 5.6, 1.4],\n",
              "       [7.7, 3. , 6.1, 2.3],\n",
              "       [6.3, 3.4, 5.6, 2.4],\n",
              "       [6.4, 3.1, 5.5, 1.8],\n",
              "       [6. , 3. , 4.8, 1.8],\n",
              "       [6.9, 3.1, 5.4, 2.1],\n",
              "       [6.7, 3.1, 5.6, 2.4],\n",
              "       [6.9, 3.1, 5.1, 2.3],\n",
              "       [5.8, 2.7, 5.1, 1.9],\n",
              "       [6.8, 3.2, 5.9, 2.3],\n",
              "       [6.7, 3.3, 5.7, 2.5],\n",
              "       [6.7, 3. , 5.2, 2.3],\n",
              "       [6.3, 2.5, 5. , 1.9],\n",
              "       [6.5, 3. , 5.2, 2. ],\n",
              "       [6.2, 3.4, 5.4, 2.3],\n",
              "       [5.9, 3. , 5.1, 1.8]])"
            ]
          },
          "execution_count": 10,
          "metadata": {},
          "output_type": "execute_result"
        }
      ],
      "source": [
        "# Splitting our dataset into its attributes and labels\n",
        "# ---\n",
        "# The X variable contains the first four columns of the dataset (i.e. attributes) while y contains the labels.\n",
        "# ---\n",
        "# \n",
        "#X = df.iloc[:, :-1].values\n",
        "y = df.iloc[:, 4].values\n",
        "X = df.drop('Class', axis=1).values\n",
        "X"
      ]
    },
    {
      "cell_type": "code",
      "execution_count": 11,
      "metadata": {
        "id": "f0zETLPa5TMB"
      },
      "outputs": [],
      "source": [
        "# Train Test Split\n",
        "# ---\n",
        "# To avoid over-fitting, we will divide our dataset into training and test splits, \n",
        "# which gives us a better idea as to how our algorithm performed during the testing phase. \n",
        "# This way our algorithm is tested on un-seen data\n",
        "# ---\n",
        "# \n",
        "from sklearn.model_selection import train_test_split\n",
        "X_train, X_test, y_train, y_test = train_test_split(X, y, test_size=0.20)"
      ]
    },
    {
      "cell_type": "code",
      "execution_count": 13,
      "metadata": {
        "id": "ZuTM-0TB5nQ0"
      },
      "outputs": [
        {
          "data": {
            "text/plain": [
              "array([[ 2.28852252, -0.06580897,  1.31736694,  1.43280553],\n",
              "       [-0.8962189 ,  0.63099191, -1.1810876 , -0.93329535],\n",
              "       [ 0.08370154, -0.06580897,  0.74953636,  0.77555529],\n",
              "       [-1.01870895, -2.38847856, -0.15899256, -0.2760451 ],\n",
              "       [-1.14119901,  0.16645799, -1.29465372, -1.45909554],\n",
              "       [ 0.69615181, -0.53034289,  1.03345165,  1.30135548],\n",
              "       [ 0.57366176, -0.53034289,  0.74953636,  0.38120514],\n",
              "       [-0.40625868, -1.22714377,  0.12492273,  0.11830504],\n",
              "       [-1.14119901, -0.06580897, -1.35143677, -1.32764549],\n",
              "       [-0.8962189 ,  1.7923267 , -1.06752148, -1.06474539],\n",
              "       [-0.77372884, -0.76260985,  0.06813967,  0.24975509],\n",
              "       [ 1.18611203, -0.53034289,  0.57918719,  0.24975509],\n",
              "       [-1.01870895,  0.39872495, -1.46500289, -1.32764549],\n",
              "       [-1.14119901,  0.16645799, -1.29465372, -1.45909554],\n",
              "       [-1.26368906, -0.06580897, -1.35143677, -1.19619544],\n",
              "       [ 0.69615181,  0.39872495,  0.86310248,  1.43280553],\n",
              "       [-0.52874874,  2.02459366, -1.40821983, -1.06474539],\n",
              "       [-1.63115923, -1.69167768, -1.40821983, -1.19619544],\n",
              "       [-0.77372884,  1.09552582, -1.29465372, -1.32764549],\n",
              "       [ 0.57366176, -0.29807593,  1.03345165,  0.77555529],\n",
              "       [ 0.4511717 , -1.92394464,  0.40883802,  0.38120514],\n",
              "       [-0.16127857, -0.53034289,  0.40883802,  0.11830504],\n",
              "       [-1.01870895,  0.86325886, -1.29465372, -1.32764549],\n",
              "       [ 0.69615181, -0.76260985,  0.86310248,  0.90700534],\n",
              "       [-1.50866917,  0.39872495, -1.35143677, -1.32764549],\n",
              "       [-1.01870895,  1.32779278, -1.35143677, -1.32764549],\n",
              "       [-0.8962189 , -1.22714377, -0.44290785, -0.14459505],\n",
              "       [-0.40625868,  2.72139454, -1.35143677, -1.32764549],\n",
              "       [-1.01870895, -1.69167768, -0.27255868, -0.2760451 ],\n",
              "       [-0.03878852,  2.25686062, -1.46500289, -1.32764549],\n",
              "       [-1.75364928, -0.06580897, -1.40821983, -1.32764549],\n",
              "       [ 0.69615181, -0.29807593,  0.2952719 ,  0.11830504],\n",
              "       [ 0.81864186, -0.06580897,  0.80631942,  1.03845538],\n",
              "       [ 2.28852252, -0.99487681,  1.7716314 ,  1.43280553],\n",
              "       [ 0.20619159, -1.92394464,  0.6927533 ,  0.38120514],\n",
              "       [ 0.20619159, -0.29807593,  0.40883802,  0.38120514],\n",
              "       [-1.75364928,  0.39872495, -1.40821983, -1.32764549],\n",
              "       [ 0.94113192, -0.06580897,  0.35205496,  0.24975509],\n",
              "       [ 1.92105236, -0.53034289,  1.31736694,  0.90700534],\n",
              "       [-1.38617912,  0.39872495, -1.23787066, -1.32764549],\n",
              "       [-0.28376863, -1.22714377,  0.06813967, -0.14459505],\n",
              "       [-0.28376863, -0.06580897,  0.18170578,  0.11830504],\n",
              "       [-1.26368906,  0.16645799, -1.23787066, -1.32764549],\n",
              "       [ 0.81864186, -0.06580897,  0.97666859,  0.77555529],\n",
              "       [-0.28376863, -0.76260985,  0.23848884,  0.11830504],\n",
              "       [ 0.69615181, -0.53034289,  1.03345165,  1.16990543],\n",
              "       [-0.52874874,  1.56005974, -1.29465372, -1.32764549],\n",
              "       [-0.16127857, -0.29807593,  0.23848884,  0.11830504],\n",
              "       [ 1.06362197,  0.63099191,  1.09023471,  1.69570563],\n",
              "       [-0.40625868, -1.69167768,  0.12492273,  0.11830504],\n",
              "       [-0.52874874, -0.06580897,  0.40883802,  0.38120514],\n",
              "       [-0.16127857,  3.18592845, -1.29465372, -1.06474539],\n",
              "       [-0.40625868,  1.09552582, -1.40821983, -1.32764549],\n",
              "       [-1.01870895, -0.06580897, -1.23787066, -1.32764549],\n",
              "       [-1.50866917,  0.86325886, -1.35143677, -1.19619544],\n",
              "       [ 0.08370154,  0.39872495,  0.57918719,  0.77555529],\n",
              "       [-0.40625868, -0.99487681,  0.35205496, -0.013145  ],\n",
              "       [ 1.06362197, -0.06580897,  0.6927533 ,  0.64410524],\n",
              "       [-0.40625868, -1.45941073,  0.01135661, -0.14459505],\n",
              "       [ 1.18611203,  0.39872495,  1.20380082,  1.43280553],\n",
              "       [ 0.32868165, -0.99487681,  1.03345165,  0.24975509],\n",
              "       [-1.87613934, -0.06580897, -1.52178595, -1.45909554],\n",
              "       [ 0.20619159, -0.06580897,  0.57918719,  0.77555529],\n",
              "       [-0.28376863, -0.53034289,  0.63597025,  1.03845538],\n",
              "       [ 1.06362197, -0.06580897,  0.80631942,  1.43280553],\n",
              "       [ 0.81864186,  0.39872495,  0.74953636,  1.03845538],\n",
              "       [ 1.06362197,  0.16645799,  0.35205496,  0.24975509],\n",
              "       [ 0.57366176,  0.63099191,  1.26058388,  1.69570563],\n",
              "       [-0.16127857, -1.22714377,  0.6927533 ,  1.03845538],\n",
              "       [-1.01870895,  1.09552582, -1.40821983, -1.19619544],\n",
              "       [-1.01870895,  0.86325886, -1.23787066, -1.06474539],\n",
              "       [-0.8962189 ,  0.86325886, -1.29465372, -1.32764549],\n",
              "       [ 1.18611203, -0.06580897,  0.97666859,  1.16990543],\n",
              "       [-0.28376863, -0.29807593, -0.1022095 ,  0.11830504],\n",
              "       [-0.28376863, -0.06580897,  0.40883802,  0.38120514],\n",
              "       [-0.8962189 ,  1.7923267 , -1.23787066, -1.32764549],\n",
              "       [ 1.55358219, -0.06580897,  1.20380082,  1.16990543],\n",
              "       [ 0.57366176, -1.22714377,  0.6927533 ,  0.90700534],\n",
              "       [-0.03878852, -0.76260985,  0.74953636,  0.90700534],\n",
              "       [-0.03878852, -0.99487681,  0.12492273, -0.013145  ],\n",
              "       [-0.16127857, -0.53034289,  0.18170578,  0.11830504],\n",
              "       [ 0.32868165, -0.53034289,  0.52240413, -0.013145  ],\n",
              "       [-0.8962189 ,  1.09552582, -1.35143677, -1.32764549],\n",
              "       [ 2.28852252, -0.53034289,  1.65806528,  1.03845538],\n",
              "       [-0.03878852, -0.76260985,  0.74953636,  0.90700534],\n",
              "       [ 0.57366176,  0.63099191,  0.52240413,  0.51265519],\n",
              "       [ 0.20619159, -1.92394464,  0.12492273, -0.2760451 ],\n",
              "       [ 1.7985623 , -0.29807593,  1.43093305,  0.77555529],\n",
              "       [ 2.16603247, -0.06580897,  1.60128223,  1.16990543],\n",
              "       [-1.38617912,  0.39872495, -1.40821983, -1.32764549],\n",
              "       [-0.03878852, -0.76260985,  0.06813967, -0.013145  ],\n",
              "       [-0.52874874,  0.86325886, -1.29465372, -1.06474539],\n",
              "       [ 0.32868165, -0.06580897,  0.63597025,  0.77555529],\n",
              "       [ 1.30860208,  0.16645799,  0.91988553,  1.16990543],\n",
              "       [-0.77372884,  0.86325886, -1.35143677, -1.32764549],\n",
              "       [ 0.69615181,  0.39872495,  0.40883802,  0.38120514],\n",
              "       [ 0.20619159,  0.86325886,  0.40883802,  0.51265519],\n",
              "       [ 0.32868165, -0.53034289,  0.12492273,  0.11830504],\n",
              "       [-1.14119901,  0.16645799, -1.29465372, -1.45909554],\n",
              "       [-0.8962189 ,  1.56005974, -1.29465372, -1.06474539],\n",
              "       [ 0.57366176, -1.69167768,  0.35205496,  0.11830504],\n",
              "       [ 0.69615181,  0.16645799,  0.97666859,  0.77555529],\n",
              "       [-1.26368906, -0.06580897, -1.35143677, -1.45909554],\n",
              "       [ 0.08370154, -0.06580897,  0.23848884,  0.38120514],\n",
              "       [-0.03878852, -0.53034289,  0.74953636,  1.56425558],\n",
              "       [-0.40625868, -1.45941073, -0.04542645, -0.2760451 ],\n",
              "       [-0.65123879,  1.56005974, -1.29465372, -1.32764549],\n",
              "       [ 0.32868165, -0.06580897,  0.46562107,  0.24975509],\n",
              "       [ 2.28852252,  1.7923267 ,  1.65806528,  1.30135548],\n",
              "       [ 1.06362197,  0.16645799,  1.03345165,  1.56425558],\n",
              "       [ 0.57366176,  0.86325886,  1.03345165,  1.56425558],\n",
              "       [ 1.30860208,  0.16645799,  0.63597025,  0.38120514],\n",
              "       [-0.03878852, -0.76260985,  0.18170578, -0.2760451 ],\n",
              "       [-1.14119901, -1.22714377,  0.40883802,  0.64410524],\n",
              "       [ 0.57366176, -1.22714377,  0.63597025,  0.38120514],\n",
              "       [ 0.4511717 ,  0.86325886,  0.91988553,  1.43280553],\n",
              "       [-1.01870895,  0.63099191, -1.35143677, -1.32764549],\n",
              "       [-0.52874874,  0.86325886, -1.1810876 , -1.32764549],\n",
              "       [ 2.53350263,  1.7923267 ,  1.48771611,  1.03845538],\n",
              "       [ 1.67607225,  0.39872495,  1.26058388,  0.77555529]])"
            ]
          },
          "execution_count": 13,
          "metadata": {},
          "output_type": "execute_result"
        }
      ],
      "source": [
        "# Feature Scaling\n",
        "# ---\n",
        "# Before making any actual predictions, it is always a good practice to scale the features \n",
        "# so that all of them can be uniformly evaluated.\n",
        "# ---\n",
        "# \n",
        "from sklearn.preprocessing import StandardScaler\n",
        "scaler = StandardScaler()\n",
        "scaler.fit(X_train)\n",
        "\n",
        "X_train = scaler.transform(X_train)\n",
        "X_test = scaler.transform(X_test)\n",
        "X_train"
      ]
    },
    {
      "cell_type": "code",
      "execution_count": 14,
      "metadata": {
        "id": "eIoc1sh56TaS"
      },
      "outputs": [
        {
          "data": {
            "text/plain": [
              "KNeighborsClassifier()"
            ]
          },
          "execution_count": 14,
          "metadata": {},
          "output_type": "execute_result"
        }
      ],
      "source": [
        "# Training and Predictions\n",
        "# ---\n",
        "# The first step is to import the KNeighborsClassifier class from the sklearn.neighbors library. \n",
        "# In the second line, this class is initialized with one parameter, i.e. n_neigbours. \n",
        "# This is basically the value for the K. There is no ideal value for K and it is selected after testing and evaluation, \n",
        "# however to start out, 5 seems to be the most commonly used value for KNN algorithm.\n",
        "# ---\n",
        "# \n",
        "from sklearn.neighbors import KNeighborsClassifier\n",
        "classifier = KNeighborsClassifier(n_neighbors=5)\n",
        "classifier.fit(X_train, y_train)"
      ]
    },
    {
      "cell_type": "code",
      "execution_count": 15,
      "metadata": {
        "id": "IfGGufz76hsw"
      },
      "outputs": [
        {
          "data": {
            "text/plain": [
              "array(['Iris-setosa', 'Iris-setosa', 'Iris-setosa', 'Iris-virginica',\n",
              "       'Iris-versicolor', 'Iris-virginica', 'Iris-virginica',\n",
              "       'Iris-setosa', 'Iris-virginica', 'Iris-virginica',\n",
              "       'Iris-versicolor', 'Iris-setosa', 'Iris-setosa', 'Iris-versicolor',\n",
              "       'Iris-versicolor', 'Iris-versicolor', 'Iris-setosa',\n",
              "       'Iris-versicolor', 'Iris-setosa', 'Iris-versicolor', 'Iris-setosa',\n",
              "       'Iris-versicolor', 'Iris-setosa', 'Iris-virginica',\n",
              "       'Iris-virginica', 'Iris-setosa', 'Iris-virginica',\n",
              "       'Iris-versicolor', 'Iris-virginica', 'Iris-virginica'],\n",
              "      dtype=object)"
            ]
          },
          "execution_count": 15,
          "metadata": {},
          "output_type": "execute_result"
        }
      ],
      "source": [
        "# The final step is to make predictions on our test data\n",
        "# ---\n",
        "# \n",
        "y_pred = classifier.predict(X_test)\n",
        "y_pred"
      ]
    },
    {
      "cell_type": "code",
      "execution_count": 16,
      "metadata": {
        "id": "Np0d1in_6mL1"
      },
      "outputs": [
        {
          "name": "stdout",
          "output_type": "stream",
          "text": [
            "[[11  0  0]\n",
            " [ 0  9  1]\n",
            " [ 0  0  9]]\n",
            "                 precision    recall  f1-score   support\n",
            "\n",
            "    Iris-setosa       1.00      1.00      1.00        11\n",
            "Iris-versicolor       1.00      0.90      0.95        10\n",
            " Iris-virginica       0.90      1.00      0.95         9\n",
            "\n",
            "       accuracy                           0.97        30\n",
            "      macro avg       0.97      0.97      0.96        30\n",
            "   weighted avg       0.97      0.97      0.97        30\n",
            "\n"
          ]
        }
      ],
      "source": [
        "# Evaluating the Algorithm\n",
        "# ---\n",
        "# For evaluating an algorithm, confusion matrix, precision, recall and f1 score are the most commonly used metrics. \n",
        "# The confusion_matrix and classification_report methods of the sklearn.metrics can be used to calculate these metrics. \n",
        "# ---\n",
        "# \n",
        "from sklearn.metrics import classification_report, confusion_matrix\n",
        "print(confusion_matrix(y_test, y_pred))\n",
        "print(classification_report(y_test, y_pred))"
      ]
    },
    {
      "cell_type": "markdown",
      "metadata": {
        "id": "Gb5PfVC02jGj"
      },
      "source": [
        "### Example 2: Regression"
      ]
    },
    {
      "cell_type": "code",
      "execution_count": null,
      "metadata": {
        "id": "mWBQW_Fx2mmL"
      },
      "outputs": [],
      "source": [
        "# Example 2\n",
        "# ---\n",
        "# Question: Predict the age of a voter through the use of other variables in the dataset.\n",
        "# ---\n",
        "# \n",
        "#OUR CODE GOES HERE"
      ]
    },
    {
      "cell_type": "code",
      "execution_count": null,
      "metadata": {
        "id": "315lN1sY39o3"
      },
      "outputs": [],
      "source": [
        "# First installing pydataset\n",
        "# ---\n",
        "#pip install pydataset "
      ]
    },
    {
      "cell_type": "code",
      "execution_count": 24,
      "metadata": {
        "id": "mhVn1U094FtZ"
      },
      "outputs": [],
      "source": [
        "# Then loading our libraries\n",
        "# \n",
        "from pydataset import data\n",
        "import pandas as pd\n",
        "from sklearn.model_selection import train_test_split\n",
        "from sklearn.neighbors import KNeighborsRegressor\n",
        "from sklearn.metrics import mean_squared_error"
      ]
    },
    {
      "cell_type": "code",
      "execution_count": 18,
      "metadata": {
        "id": "kInMF4SO3Bee"
      },
      "outputs": [
        {
          "data": {
            "text/html": [
              "<div>\n",
              "<style scoped>\n",
              "    .dataframe tbody tr th:only-of-type {\n",
              "        vertical-align: middle;\n",
              "    }\n",
              "\n",
              "    .dataframe tbody tr th {\n",
              "        vertical-align: top;\n",
              "    }\n",
              "\n",
              "    .dataframe thead th {\n",
              "        text-align: right;\n",
              "    }\n",
              "</style>\n",
              "<table border=\"1\" class=\"dataframe\">\n",
              "  <thead>\n",
              "    <tr style=\"text-align: right;\">\n",
              "      <th></th>\n",
              "      <th>race</th>\n",
              "      <th>age</th>\n",
              "      <th>educate</th>\n",
              "      <th>income</th>\n",
              "      <th>vote</th>\n",
              "    </tr>\n",
              "  </thead>\n",
              "  <tbody>\n",
              "    <tr>\n",
              "      <th>1</th>\n",
              "      <td>white</td>\n",
              "      <td>60</td>\n",
              "      <td>14.0</td>\n",
              "      <td>3.3458</td>\n",
              "      <td>1</td>\n",
              "    </tr>\n",
              "    <tr>\n",
              "      <th>2</th>\n",
              "      <td>white</td>\n",
              "      <td>51</td>\n",
              "      <td>10.0</td>\n",
              "      <td>1.8561</td>\n",
              "      <td>0</td>\n",
              "    </tr>\n",
              "    <tr>\n",
              "      <th>3</th>\n",
              "      <td>white</td>\n",
              "      <td>24</td>\n",
              "      <td>12.0</td>\n",
              "      <td>0.6304</td>\n",
              "      <td>0</td>\n",
              "    </tr>\n",
              "    <tr>\n",
              "      <th>4</th>\n",
              "      <td>white</td>\n",
              "      <td>38</td>\n",
              "      <td>8.0</td>\n",
              "      <td>3.4183</td>\n",
              "      <td>1</td>\n",
              "    </tr>\n",
              "    <tr>\n",
              "      <th>5</th>\n",
              "      <td>white</td>\n",
              "      <td>25</td>\n",
              "      <td>12.0</td>\n",
              "      <td>2.7852</td>\n",
              "      <td>1</td>\n",
              "    </tr>\n",
              "  </tbody>\n",
              "</table>\n",
              "</div>"
            ],
            "text/plain": [
              "    race  age  educate  income  vote\n",
              "1  white   60     14.0  3.3458     1\n",
              "2  white   51     10.0  1.8561     0\n",
              "3  white   24     12.0  0.6304     0\n",
              "4  white   38      8.0  3.4183     1\n",
              "5  white   25     12.0  2.7852     1"
            ]
          },
          "execution_count": 18,
          "metadata": {},
          "output_type": "execute_result"
        }
      ],
      "source": [
        "# Previewing our turnout dataset\n",
        "# ---\n",
        "# \n",
        "df = data(\"turnout\")\n",
        "df.head()"
      ]
    },
    {
      "cell_type": "code",
      "execution_count": 19,
      "metadata": {
        "id": "I8zzGmGQ4sHk"
      },
      "outputs": [
        {
          "data": {
            "text/plain": [
              "(2000, 5)"
            ]
          },
          "execution_count": 19,
          "metadata": {},
          "output_type": "execute_result"
        }
      ],
      "source": [
        "# Determining the size of the dataset\n",
        "# \n",
        "df.shape"
      ]
    },
    {
      "cell_type": "code",
      "execution_count": 20,
      "metadata": {
        "id": "Dcxaem5P4fKn"
      },
      "outputs": [],
      "source": [
        "# Splitting our data\n",
        "# ---\n",
        "# \n",
        "X = df[['age','income','vote']]\n",
        "y = df['educate']\n",
        "X_train, X_test, y_train, y_test = train_test_split(X, y, test_size=.3, random_state=0)"
      ]
    },
    {
      "cell_type": "code",
      "execution_count": 21,
      "metadata": {
        "id": "ZQABF1Kq3Qv2"
      },
      "outputs": [
        {
          "data": {
            "text/plain": [
              "KNeighborsRegressor(n_neighbors=11)"
            ]
          },
          "execution_count": 21,
          "metadata": {},
          "output_type": "execute_result"
        }
      ],
      "source": [
        "# Training our algorithm\n",
        "# ---\n",
        "# \n",
        "clf = KNeighborsRegressor(11)\n",
        "clf.fit(X_train, y_train)"
      ]
    },
    {
      "cell_type": "code",
      "execution_count": 22,
      "metadata": {
        "id": "LHaOPpYP3Ypf"
      },
      "outputs": [
        {
          "name": "stdout",
          "output_type": "stream",
          "text": [
            "9.239404269972454\n"
          ]
        }
      ],
      "source": [
        "# Making our prediction\n",
        "# ---\n",
        "# \n",
        "y_pred = clf.predict(X_test)\n",
        "print(mean_squared_error(y_test, y_pred))"
      ]
    },
    {
      "cell_type": "markdown",
      "metadata": {
        "id": "v-Jt6Qra2o-_"
      },
      "source": [
        "## <font color=\"green\">Challenge 1</font>"
      ]
    },
    {
      "cell_type": "code",
      "execution_count": null,
      "metadata": {
        "id": "ufHjmjCo2uaH"
      },
      "outputs": [],
      "source": [
        "# Challenge 1\n",
        "# ---\n",
        "# Question: Predict the income level based on the individual’s personal information in the given dataset.\n",
        "# ---\n",
        "# Dataset url = http://bit.ly/DatasetAdult\n",
        "# ---\n",
        "# \n",
        "OUR CODE GOES HERE"
      ]
    },
    {
      "cell_type": "markdown",
      "metadata": {
        "id": "jGdhSh8a2vIu"
      },
      "source": [
        "## <font color=\"green\">Challenge 2</font>"
      ]
    },
    {
      "cell_type": "code",
      "execution_count": null,
      "metadata": {
        "id": "Hrld1Xb52zOK"
      },
      "outputs": [],
      "source": [
        "# Challenge 2\n",
        "# ---\n",
        "# Question: Using KNN, predict if the client will subscribe a term deposit (variable y).\n",
        "# ---\n",
        "# Dataset url = http://bit.ly/DatasetBank\n",
        "# ---\n",
        "# Dasest info = http://bit.ly/DatasetBankInfo\n",
        "# ---\n",
        "# \n",
        "OUR CODE GOES HERE"
      ]
    },
    {
      "cell_type": "markdown",
      "metadata": {
        "id": "nS97eeWtA8h-"
      },
      "source": [
        "## <font color=\"green\">Challenge 3</font>"
      ]
    },
    {
      "cell_type": "code",
      "execution_count": null,
      "metadata": {
        "id": "yPXyXyNdBFwh"
      },
      "outputs": [],
      "source": [
        "# Challenge 3\n",
        "# ---\n",
        "# Question: Predict if a person will have diabetes or not using the KNN algorithm.\n",
        "# ---\n",
        "# Dataset url = http://bit.ly/DatasetDiabetes\n",
        "# ---\n",
        "# \n",
        "OUR CODE GOES HERE"
      ]
    },
    {
      "cell_type": "markdown",
      "metadata": {
        "id": "ArCcqqQ_6MS1"
      },
      "source": [
        "## <font color=\"green\">Challenge 4</font>"
      ]
    },
    {
      "cell_type": "code",
      "execution_count": null,
      "metadata": {
        "id": "fSPxkZTH6TKI"
      },
      "outputs": [],
      "source": [
        "# Challenge 4\n",
        "# ---\n",
        "# Question: Predict the miles per gallon (mpg) of a car, given its displacement and horsepower.\n",
        "# ---\n",
        "# Dataset Train url = http://bit.ly/AutoMPGTrainDataset\n",
        "# Dataset Test url = http://bit.ly/AutoMPGTestDataset \n",
        "# ---\n",
        "# \n",
        "OUR CODE GOES HERE"
      ]
    },
    {
      "cell_type": "markdown",
      "metadata": {
        "id": "vwjo3A_6A3Cn"
      },
      "source": [
        "## <font color=\"green\">Challenge 5</font>"
      ]
    },
    {
      "cell_type": "code",
      "execution_count": null,
      "metadata": {
        "id": "_2yQMQysA5vu"
      },
      "outputs": [],
      "source": [
        "# Challenge 6\n",
        "# ---\n",
        "# Question: Predict the target class given the following dataset.\n",
        "# ---\n",
        "# Dataset url = http://bit.ly/ClassifiedDataset\n",
        "# ---\n",
        "# \n",
        "OUR CODE GOES HERE"
      ]
    }
  ],
  "metadata": {
    "colab": {
      "collapsed_sections": [
        "G_2LcNX_2mRp",
        "59Dl6rn42e6J",
        "Gb5PfVC02jGj",
        "v-Jt6Qra2o-_",
        "jGdhSh8a2vIu",
        "nS97eeWtA8h-",
        "ArCcqqQ_6MS1",
        "vwjo3A_6A3Cn"
      ],
      "name": "Python Programming: The K-Nearest Neighbours (KNN)",
      "provenance": [],
      "toc_visible": true
    },
    "interpreter": {
      "hash": "8e24f623c9d976e65e43b538ecbbc4d478524c94015e92b14b460358aba5245a"
    },
    "kernelspec": {
      "display_name": "Python 3.8.5 64-bit ('base': conda)",
      "name": "python3"
    },
    "language_info": {
      "codemirror_mode": {
        "name": "ipython",
        "version": 3
      },
      "file_extension": ".py",
      "mimetype": "text/x-python",
      "name": "python",
      "nbconvert_exporter": "python",
      "pygments_lexer": "ipython3",
      "version": "3.8.5"
    }
  },
  "nbformat": 4,
  "nbformat_minor": 0
}
